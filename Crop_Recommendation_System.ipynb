{
 "cells": [
  {
   "cell_type": "markdown",
   "metadata": {
    "id": "view-in-github"
   },
   "source": [
    "<a href=\"https://colab.research.google.com/github/AyushChauhan-ui/CropCounsel/blob/main/Crop_Recommendation_System.ipynb\" target=\"_parent\"><img src=\"https://colab.research.google.com/assets/colab-badge.svg\" alt=\"Open In Colab\"/></a>"
   ]
  },
  {
   "cell_type": "code",
   "execution_count": 4,
   "metadata": {
    "id": "tSPKBkF6A1ut"
   },
   "outputs": [],
   "source": [
    "import pandas as pd\n",
    "import numpy as np\n",
    "import matplotlib.pyplot as plt\n",
    "import seaborn as sns"
   ]
  },
  {
   "cell_type": "code",
   "execution_count": 5,
   "metadata": {
    "id": "APY9IwjUBpCQ"
   },
   "outputs": [],
   "source": [
    "df=pd.read_csv(\"C:/Users/sunny/OneDrive/Desktop/crops1.csv\")"
   ]
  },
  {
   "cell_type": "code",
   "execution_count": 6,
   "metadata": {
    "colab": {
     "base_uri": "https://localhost:8080/",
     "height": 223
    },
    "id": "QUcGHBcdB16x",
    "outputId": "07694268-3c8c-4c55-de3e-dbe56cba5abe"
   },
   "outputs": [
    {
     "data": {
      "text/html": [
       "<div>\n",
       "<style scoped>\n",
       "    .dataframe tbody tr th:only-of-type {\n",
       "        vertical-align: middle;\n",
       "    }\n",
       "\n",
       "    .dataframe tbody tr th {\n",
       "        vertical-align: top;\n",
       "    }\n",
       "\n",
       "    .dataframe thead th {\n",
       "        text-align: right;\n",
       "    }\n",
       "</style>\n",
       "<table border=\"1\" class=\"dataframe\">\n",
       "  <thead>\n",
       "    <tr style=\"text-align: right;\">\n",
       "      <th></th>\n",
       "      <th>N</th>\n",
       "      <th>P</th>\n",
       "      <th>K</th>\n",
       "      <th>temperature(in degree celsius)</th>\n",
       "      <th>humidity(in percentage)</th>\n",
       "      <th>ph of soil</th>\n",
       "      <th>rainfall( in mm )</th>\n",
       "      <th>label</th>\n",
       "      <th>water-availability(liters per year)</th>\n",
       "    </tr>\n",
       "  </thead>\n",
       "  <tbody>\n",
       "    <tr>\n",
       "      <th>0</th>\n",
       "      <td>90</td>\n",
       "      <td>42</td>\n",
       "      <td>43</td>\n",
       "      <td>20.879744</td>\n",
       "      <td>82.002744</td>\n",
       "      <td>6.502985</td>\n",
       "      <td>202.935536</td>\n",
       "      <td>rice</td>\n",
       "      <td>3000.0</td>\n",
       "    </tr>\n",
       "    <tr>\n",
       "      <th>1</th>\n",
       "      <td>85</td>\n",
       "      <td>58</td>\n",
       "      <td>41</td>\n",
       "      <td>21.770462</td>\n",
       "      <td>80.319644</td>\n",
       "      <td>7.038096</td>\n",
       "      <td>226.655537</td>\n",
       "      <td>rice</td>\n",
       "      <td>3020.0</td>\n",
       "    </tr>\n",
       "    <tr>\n",
       "      <th>2</th>\n",
       "      <td>60</td>\n",
       "      <td>55</td>\n",
       "      <td>44</td>\n",
       "      <td>23.004459</td>\n",
       "      <td>82.320763</td>\n",
       "      <td>7.840207</td>\n",
       "      <td>263.964248</td>\n",
       "      <td>rice</td>\n",
       "      <td>3040.0</td>\n",
       "    </tr>\n",
       "    <tr>\n",
       "      <th>3</th>\n",
       "      <td>74</td>\n",
       "      <td>35</td>\n",
       "      <td>40</td>\n",
       "      <td>26.491096</td>\n",
       "      <td>80.158363</td>\n",
       "      <td>6.980401</td>\n",
       "      <td>242.864034</td>\n",
       "      <td>rice</td>\n",
       "      <td>3060.0</td>\n",
       "    </tr>\n",
       "    <tr>\n",
       "      <th>4</th>\n",
       "      <td>78</td>\n",
       "      <td>42</td>\n",
       "      <td>42</td>\n",
       "      <td>20.130175</td>\n",
       "      <td>81.604873</td>\n",
       "      <td>7.628473</td>\n",
       "      <td>262.717340</td>\n",
       "      <td>rice</td>\n",
       "      <td>3080.0</td>\n",
       "    </tr>\n",
       "  </tbody>\n",
       "</table>\n",
       "</div>"
      ],
      "text/plain": [
       "    N   P   K  temperature(in degree celsius)  humidity(in percentage)  \\\n",
       "0  90  42  43                       20.879744                82.002744   \n",
       "1  85  58  41                       21.770462                80.319644   \n",
       "2  60  55  44                       23.004459                82.320763   \n",
       "3  74  35  40                       26.491096                80.158363   \n",
       "4  78  42  42                       20.130175                81.604873   \n",
       "\n",
       "   ph of soil  rainfall( in mm ) label  water-availability(liters per year)  \n",
       "0    6.502985         202.935536  rice                               3000.0  \n",
       "1    7.038096         226.655537  rice                               3020.0  \n",
       "2    7.840207         263.964248  rice                               3040.0  \n",
       "3    6.980401         242.864034  rice                               3060.0  \n",
       "4    7.628473         262.717340  rice                               3080.0  "
      ]
     },
     "execution_count": 6,
     "metadata": {},
     "output_type": "execute_result"
    }
   ],
   "source": [
    "df.head()"
   ]
  },
  {
   "cell_type": "code",
   "execution_count": 7,
   "metadata": {
    "colab": {
     "base_uri": "https://localhost:8080/",
     "height": 317
    },
    "id": "W-_CITUfCEnJ",
    "outputId": "04caf006-9b0b-4d06-b7dc-0e4de03a4164"
   },
   "outputs": [
    {
     "data": {
      "text/html": [
       "<div>\n",
       "<style scoped>\n",
       "    .dataframe tbody tr th:only-of-type {\n",
       "        vertical-align: middle;\n",
       "    }\n",
       "\n",
       "    .dataframe tbody tr th {\n",
       "        vertical-align: top;\n",
       "    }\n",
       "\n",
       "    .dataframe thead th {\n",
       "        text-align: right;\n",
       "    }\n",
       "</style>\n",
       "<table border=\"1\" class=\"dataframe\">\n",
       "  <thead>\n",
       "    <tr style=\"text-align: right;\">\n",
       "      <th></th>\n",
       "      <th>N</th>\n",
       "      <th>P</th>\n",
       "      <th>K</th>\n",
       "      <th>temperature(in degree celsius)</th>\n",
       "      <th>humidity(in percentage)</th>\n",
       "      <th>ph of soil</th>\n",
       "      <th>rainfall( in mm )</th>\n",
       "      <th>water-availability(liters per year)</th>\n",
       "    </tr>\n",
       "  </thead>\n",
       "  <tbody>\n",
       "    <tr>\n",
       "      <th>count</th>\n",
       "      <td>2221.000000</td>\n",
       "      <td>2221.000000</td>\n",
       "      <td>2221.000000</td>\n",
       "      <td>2221.000000</td>\n",
       "      <td>2221.000000</td>\n",
       "      <td>2221.000000</td>\n",
       "      <td>2221.000000</td>\n",
       "      <td>2221.000000</td>\n",
       "    </tr>\n",
       "    <tr>\n",
       "      <th>mean</th>\n",
       "      <td>63.829806</td>\n",
       "      <td>60.604683</td>\n",
       "      <td>55.864475</td>\n",
       "      <td>25.639519</td>\n",
       "      <td>71.163856</td>\n",
       "      <td>6.488970</td>\n",
       "      <td>164.170015</td>\n",
       "      <td>5847.690737</td>\n",
       "    </tr>\n",
       "    <tr>\n",
       "      <th>std</th>\n",
       "      <td>80.931997</td>\n",
       "      <td>45.239587</td>\n",
       "      <td>60.152045</td>\n",
       "      <td>5.352845</td>\n",
       "      <td>22.182367</td>\n",
       "      <td>0.864728</td>\n",
       "      <td>209.081882</td>\n",
       "      <td>22412.871398</td>\n",
       "    </tr>\n",
       "    <tr>\n",
       "      <th>min</th>\n",
       "      <td>0.000000</td>\n",
       "      <td>5.000000</td>\n",
       "      <td>5.000000</td>\n",
       "      <td>8.825675</td>\n",
       "      <td>14.258040</td>\n",
       "      <td>3.504752</td>\n",
       "      <td>20.211267</td>\n",
       "      <td>0.000310</td>\n",
       "    </tr>\n",
       "    <tr>\n",
       "      <th>25%</th>\n",
       "      <td>21.000000</td>\n",
       "      <td>27.000000</td>\n",
       "      <td>20.000000</td>\n",
       "      <td>22.301574</td>\n",
       "      <td>59.270550</td>\n",
       "      <td>5.934136</td>\n",
       "      <td>64.776515</td>\n",
       "      <td>0.002327</td>\n",
       "    </tr>\n",
       "    <tr>\n",
       "      <th>50%</th>\n",
       "      <td>37.000000</td>\n",
       "      <td>55.000000</td>\n",
       "      <td>31.000000</td>\n",
       "      <td>25.669011</td>\n",
       "      <td>80.046782</td>\n",
       "      <td>6.419052</td>\n",
       "      <td>95.713885</td>\n",
       "      <td>1.068850</td>\n",
       "    </tr>\n",
       "    <tr>\n",
       "      <th>75%</th>\n",
       "      <td>84.000000</td>\n",
       "      <td>73.000000</td>\n",
       "      <td>52.000000</td>\n",
       "      <td>28.918620</td>\n",
       "      <td>89.895933</td>\n",
       "      <td>6.960358</td>\n",
       "      <td>133.191442</td>\n",
       "      <td>47.900000</td>\n",
       "    </tr>\n",
       "    <tr>\n",
       "      <th>max</th>\n",
       "      <td>496.000000</td>\n",
       "      <td>250.000000</td>\n",
       "      <td>250.000000</td>\n",
       "      <td>43.675493</td>\n",
       "      <td>99.981876</td>\n",
       "      <td>9.935091</td>\n",
       "      <td>898.721657</td>\n",
       "      <td>114462.000000</td>\n",
       "    </tr>\n",
       "  </tbody>\n",
       "</table>\n",
       "</div>"
      ],
      "text/plain": [
       "                 N            P            K  temperature(in degree celsius)  \\\n",
       "count  2221.000000  2221.000000  2221.000000                     2221.000000   \n",
       "mean     63.829806    60.604683    55.864475                       25.639519   \n",
       "std      80.931997    45.239587    60.152045                        5.352845   \n",
       "min       0.000000     5.000000     5.000000                        8.825675   \n",
       "25%      21.000000    27.000000    20.000000                       22.301574   \n",
       "50%      37.000000    55.000000    31.000000                       25.669011   \n",
       "75%      84.000000    73.000000    52.000000                       28.918620   \n",
       "max     496.000000   250.000000   250.000000                       43.675493   \n",
       "\n",
       "       humidity(in percentage)   ph of soil  rainfall( in mm )  \\\n",
       "count              2221.000000  2221.000000        2221.000000   \n",
       "mean                 71.163856     6.488970         164.170015   \n",
       "std                  22.182367     0.864728         209.081882   \n",
       "min                  14.258040     3.504752          20.211267   \n",
       "25%                  59.270550     5.934136          64.776515   \n",
       "50%                  80.046782     6.419052          95.713885   \n",
       "75%                  89.895933     6.960358         133.191442   \n",
       "max                  99.981876     9.935091         898.721657   \n",
       "\n",
       "       water-availability(liters per year)  \n",
       "count                          2221.000000  \n",
       "mean                           5847.690737  \n",
       "std                           22412.871398  \n",
       "min                               0.000310  \n",
       "25%                               0.002327  \n",
       "50%                               1.068850  \n",
       "75%                              47.900000  \n",
       "max                          114462.000000  "
      ]
     },
     "execution_count": 7,
     "metadata": {},
     "output_type": "execute_result"
    }
   ],
   "source": [
    "df.describe()"
   ]
  },
  {
   "cell_type": "code",
   "execution_count": 8,
   "metadata": {
    "colab": {
     "base_uri": "https://localhost:8080/"
    },
    "id": "8-zmtml4CXc6",
    "outputId": "3be2e23c-683e-4e2d-bfb7-2140e390d387"
   },
   "outputs": [
    {
     "name": "stdout",
     "output_type": "stream",
     "text": [
      "<class 'pandas.core.frame.DataFrame'>\n",
      "RangeIndex: 2221 entries, 0 to 2220\n",
      "Data columns (total 9 columns):\n",
      " #   Column                               Non-Null Count  Dtype  \n",
      "---  ------                               --------------  -----  \n",
      " 0   N                                    2221 non-null   int64  \n",
      " 1   P                                    2221 non-null   int64  \n",
      " 2   K                                    2221 non-null   int64  \n",
      " 3   temperature(in degree celsius)       2221 non-null   float64\n",
      " 4   humidity(in percentage)              2221 non-null   float64\n",
      " 5   ph of soil                           2221 non-null   float64\n",
      " 6   rainfall( in mm )                    2221 non-null   float64\n",
      " 7   label                                2221 non-null   object \n",
      " 8   water-availability(liters per year)  2221 non-null   float64\n",
      "dtypes: float64(5), int64(3), object(1)\n",
      "memory usage: 156.3+ KB\n"
     ]
    }
   ],
   "source": [
    "df.info()"
   ]
  },
  {
   "cell_type": "code",
   "execution_count": 9,
   "metadata": {
    "colab": {
     "base_uri": "https://localhost:8080/"
    },
    "id": "Pa4dIagIELVk",
    "outputId": "182d2600-98b1-4373-b4b8-05c389364dad"
   },
   "outputs": [
    {
     "data": {
      "text/plain": [
       "(2221, 9)"
      ]
     },
     "execution_count": 9,
     "metadata": {},
     "output_type": "execute_result"
    }
   ],
   "source": [
    "df.shape"
   ]
  },
  {
   "cell_type": "code",
   "execution_count": 10,
   "metadata": {
    "colab": {
     "base_uri": "https://localhost:8080/"
    },
    "id": "91t03wnvERN3",
    "outputId": "79ad15c8-c49f-4ff3-ca4e-933b9654a7ca"
   },
   "outputs": [
    {
     "data": {
      "text/plain": [
       "N                                      0\n",
       "P                                      0\n",
       "K                                      0\n",
       "temperature(in degree celsius)         0\n",
       "humidity(in percentage)                0\n",
       "ph of soil                             0\n",
       "rainfall( in mm )                      0\n",
       "label                                  0\n",
       "water-availability(liters per year)    0\n",
       "dtype: int64"
      ]
     },
     "execution_count": 10,
     "metadata": {},
     "output_type": "execute_result"
    }
   ],
   "source": [
    "df.isna().sum()"
   ]
  },
  {
   "cell_type": "code",
   "execution_count": 11,
   "metadata": {
    "colab": {
     "base_uri": "https://localhost:8080/"
    },
    "id": "04fatiyvgtB_",
    "outputId": "3990f29b-91ea-4433-e8cf-c73505b2107a"
   },
   "outputs": [
    {
     "data": {
      "text/plain": [
       "Index(['N', 'P', 'K', 'temperature(in degree celsius)',\n",
       "       'humidity(in percentage)', 'ph of soil', 'rainfall( in mm )', 'label',\n",
       "       'water-availability(liters per year)'],\n",
       "      dtype='object')"
      ]
     },
     "execution_count": 11,
     "metadata": {},
     "output_type": "execute_result"
    }
   ],
   "source": [
    "df.columns"
   ]
  },
  {
   "cell_type": "code",
   "execution_count": 12,
   "metadata": {
    "id": "5rPrhnethVpi"
   },
   "outputs": [],
   "source": [
    "df.columns = ['N','P','K','Temperature','Humidity','pH','Rainfall', 'Label', 'Water Availability']"
   ]
  },
  {
   "cell_type": "code",
   "execution_count": 13,
   "metadata": {
    "colab": {
     "base_uri": "https://localhost:8080/",
     "height": 206
    },
    "id": "ZQYhzIWFhnvW",
    "outputId": "b0befac9-5d1b-408b-e3ef-d974c4b2f9bf"
   },
   "outputs": [
    {
     "data": {
      "text/html": [
       "<div>\n",
       "<style scoped>\n",
       "    .dataframe tbody tr th:only-of-type {\n",
       "        vertical-align: middle;\n",
       "    }\n",
       "\n",
       "    .dataframe tbody tr th {\n",
       "        vertical-align: top;\n",
       "    }\n",
       "\n",
       "    .dataframe thead th {\n",
       "        text-align: right;\n",
       "    }\n",
       "</style>\n",
       "<table border=\"1\" class=\"dataframe\">\n",
       "  <thead>\n",
       "    <tr style=\"text-align: right;\">\n",
       "      <th></th>\n",
       "      <th>N</th>\n",
       "      <th>P</th>\n",
       "      <th>K</th>\n",
       "      <th>Temperature</th>\n",
       "      <th>Humidity</th>\n",
       "      <th>pH</th>\n",
       "      <th>Rainfall</th>\n",
       "      <th>Label</th>\n",
       "      <th>Water Availability</th>\n",
       "    </tr>\n",
       "  </thead>\n",
       "  <tbody>\n",
       "    <tr>\n",
       "      <th>0</th>\n",
       "      <td>90</td>\n",
       "      <td>42</td>\n",
       "      <td>43</td>\n",
       "      <td>20.879744</td>\n",
       "      <td>82.002744</td>\n",
       "      <td>6.502985</td>\n",
       "      <td>202.935536</td>\n",
       "      <td>rice</td>\n",
       "      <td>3000.0</td>\n",
       "    </tr>\n",
       "    <tr>\n",
       "      <th>1</th>\n",
       "      <td>85</td>\n",
       "      <td>58</td>\n",
       "      <td>41</td>\n",
       "      <td>21.770462</td>\n",
       "      <td>80.319644</td>\n",
       "      <td>7.038096</td>\n",
       "      <td>226.655537</td>\n",
       "      <td>rice</td>\n",
       "      <td>3020.0</td>\n",
       "    </tr>\n",
       "    <tr>\n",
       "      <th>2</th>\n",
       "      <td>60</td>\n",
       "      <td>55</td>\n",
       "      <td>44</td>\n",
       "      <td>23.004459</td>\n",
       "      <td>82.320763</td>\n",
       "      <td>7.840207</td>\n",
       "      <td>263.964248</td>\n",
       "      <td>rice</td>\n",
       "      <td>3040.0</td>\n",
       "    </tr>\n",
       "    <tr>\n",
       "      <th>3</th>\n",
       "      <td>74</td>\n",
       "      <td>35</td>\n",
       "      <td>40</td>\n",
       "      <td>26.491096</td>\n",
       "      <td>80.158363</td>\n",
       "      <td>6.980401</td>\n",
       "      <td>242.864034</td>\n",
       "      <td>rice</td>\n",
       "      <td>3060.0</td>\n",
       "    </tr>\n",
       "    <tr>\n",
       "      <th>4</th>\n",
       "      <td>78</td>\n",
       "      <td>42</td>\n",
       "      <td>42</td>\n",
       "      <td>20.130175</td>\n",
       "      <td>81.604873</td>\n",
       "      <td>7.628473</td>\n",
       "      <td>262.717340</td>\n",
       "      <td>rice</td>\n",
       "      <td>3080.0</td>\n",
       "    </tr>\n",
       "  </tbody>\n",
       "</table>\n",
       "</div>"
      ],
      "text/plain": [
       "    N   P   K  Temperature   Humidity        pH    Rainfall Label  \\\n",
       "0  90  42  43    20.879744  82.002744  6.502985  202.935536  rice   \n",
       "1  85  58  41    21.770462  80.319644  7.038096  226.655537  rice   \n",
       "2  60  55  44    23.004459  82.320763  7.840207  263.964248  rice   \n",
       "3  74  35  40    26.491096  80.158363  6.980401  242.864034  rice   \n",
       "4  78  42  42    20.130175  81.604873  7.628473  262.717340  rice   \n",
       "\n",
       "   Water Availability  \n",
       "0              3000.0  \n",
       "1              3020.0  \n",
       "2              3040.0  \n",
       "3              3060.0  \n",
       "4              3080.0  "
      ]
     },
     "execution_count": 13,
     "metadata": {},
     "output_type": "execute_result"
    }
   ],
   "source": [
    "df.head()"
   ]
  },
  {
   "cell_type": "code",
   "execution_count": 14,
   "metadata": {
    "colab": {
     "base_uri": "https://localhost:8080/",
     "height": 1000
    },
    "id": "I2WrMq5DEltq",
    "outputId": "1cf14a3e-9eaa-4c6a-c0b6-0b328793fc16"
   },
   "outputs": [
    {
     "data": {
      "image/png": "[encoded data removed]",
      "text/plain": [
       "<Figure size 1500x600 with 1 Axes>"
      ]
     },
     "metadata": {},
     "output_type": "display_data"
    },
    {
     "data": {
      "image/png": "[encoded data removed]",
      "text/plain": [
       "<Figure size 1500x600 with 1 Axes>"
      ]
     },
     "metadata": {},
     "output_type": "display_data"
    },
    {
     "data": {
      "image/png": "[encoded data removed]",
      "text/plain": [
       "<Figure size 1500x600 with 1 Axes>"
      ]
     },
     "metadata": {},
     "output_type": "display_data"
    },
    {
     "data": {
      "image/png": "[encoded data removed]",
      "text/plain": [
       "<Figure size 1500x600 with 1 Axes>"
      ]
     },
     "metadata": {},
     "output_type": "display_data"
    },
    {
     "data": {
      "image/png": "[encoded data removed]",
      "text/plain": [
       "<Figure size 1500x600 with 1 Axes>"
      ]
     },
     "metadata": {},
     "output_type": "display_data"
    },
    {
     "data": {
      "image/png": "[encoded data removed]",
      "text/plain": [
       "<Figure size 1500x600 with 1 Axes>"
      ]
     },
     "metadata": {},
     "output_type": "display_data"
    },
    {
     "data": {
      "image/png": "[encoded data removed]",
      "text/plain": [
       "<Figure size 1500x600 with 1 Axes>"
      ]
     },
     "metadata": {},
     "output_type": "display_data"
    },
    {
     "data": {
      "image/png": "[encoded data removed]",
      "text/plain": [
       "<Figure size 1500x600 with 1 Axes>"
      ]
     },
     "metadata": {},
     "output_type": "display_data"
    }
   ],
   "source": [
    "features = df[['N','P','K','Temperature','Humidity','pH','Rainfall','Water Availability']]\n",
    "for i in features.columns:\n",
    "             plt.figure(figsize=(15,6))\n",
    "             sns.boxplot(features[i])\n",
    "             plt.xticks(rotation = 90)\n",
    "             plt.show()"
   ]
  },
  {
   "cell_type": "code",
   "execution_count": 15,
   "metadata": {
    "colab": {
     "base_uri": "https://localhost:8080/"
    },
    "id": "yhDyZUpKlVuH",
    "outputId": "faa0169b-ec28-45da-c1eb-8b7dcbdca2be"
   },
   "outputs": [
    {
     "name": "stdout",
     "output_type": "stream",
     "text": [
      "Lower limit: 32.0 Upper limit: 48.0\n",
      "Minimum value: 35   MAximum Value: 45\n",
      "Lower limit passed - No outlier\n",
      "Upper limit passed - No outlier\n",
      " \n",
      "Lower limit: 9.5 Upper limit: 29.5\n",
      "Minimum value: 15   MAximum Value: 25\n",
      "Lower limit passed - No outlier\n",
      "Upper limit passed - No outlier\n",
      " \n",
      "Lower limit: 68.0 Upper limit: 92.0\n",
      "Minimum value: 75   MAximum Value: 85\n",
      "Lower limit passed - No outlier\n",
      "Upper limit passed - No outlier\n",
      " \n",
      "Lower limit: 9.125 Upper limit: 30.125\n",
      "Minimum value: 15   MAximum Value: 25\n",
      "Lower limit passed - No outlier\n",
      "Upper limit passed - No outlier\n",
      " \n",
      "Lower limit: 10.5 Upper limit: 30.5\n",
      "Minimum value: 15   MAximum Value: 25\n",
      "Lower limit passed - No outlier\n",
      "Upper limit passed - No outlier\n",
      " \n",
      "Lower limit: 10.5 Upper limit: 30.5\n",
      "Minimum value: 15   MAximum Value: 25\n",
      "Lower limit passed - No outlier\n",
      "Upper limit passed - No outlier\n",
      " \n",
      "Lower limit: 9.5 Upper limit: 29.5\n",
      "Minimum value: 15   MAximum Value: 25\n",
      "Lower limit passed - No outlier\n",
      "Upper limit passed - No outlier\n",
      " \n",
      "Lower limit: 8.875 Upper limit: 29.875\n",
      "Minimum value: 15   MAximum Value: 25\n",
      "Lower limit passed - No outlier\n",
      "Upper limit passed - No outlier\n",
      " \n",
      "Lower limit: 9.5 Upper limit: 29.5\n",
      "Minimum value: 15   MAximum Value: 25\n",
      "Lower limit passed - No outlier\n",
      "Upper limit passed - No outlier\n",
      " \n",
      "Lower limit: 30.5 Upper limit: 50.5\n",
      "Minimum value: 35   MAximum Value: 45\n",
      "Lower limit passed - No outlier\n",
      "Upper limit passed - No outlier\n",
      " \n",
      "Lower limit: 38.0 Upper limit: 62.0\n",
      "Minimum value: 45   MAximum Value: 55\n",
      "Lower limit passed - No outlier\n",
      "Upper limit passed - No outlier\n",
      " \n",
      "Lower limit: 19.5 Upper limit: 39.5\n",
      "Minimum value: 25   MAximum Value: 35\n",
      "Lower limit passed - No outlier\n",
      "Upper limit passed - No outlier\n",
      " \n",
      "Lower limit: 188.0 Upper limit: 212.0\n",
      "Minimum value: 195   MAximum Value: 205\n",
      "Lower limit passed - No outlier\n",
      "Upper limit passed - No outlier\n",
      " \n",
      "Lower limit: 38.0 Upper limit: 62.0\n",
      "Minimum value: 45   MAximum Value: 55\n",
      "Lower limit passed - No outlier\n",
      "Upper limit passed - No outlier\n",
      " \n",
      "Lower limit: 39.125 Upper limit: 60.125\n",
      "Minimum value: 45   MAximum Value: 55\n",
      "Lower limit passed - No outlier\n",
      "Upper limit passed - No outlier\n",
      " \n",
      "Lower limit: 188.0 Upper limit: 212.0\n",
      "Minimum value: 195   MAximum Value: 205\n",
      "Lower limit passed - No outlier\n",
      "Upper limit passed - No outlier\n",
      " \n",
      "Lower limit: 1.625 Upper limit: 18.625\n",
      "Minimum value: 5   MAximum Value: 15\n",
      "Lower limit passed - No outlier\n",
      "Upper limit passed - No outlier\n",
      " \n",
      "Lower limit: 39.5 Upper limit: 59.5\n",
      "Minimum value: 45   MAximum Value: 55\n",
      "Lower limit passed - No outlier\n",
      "Upper limit passed - No outlier\n",
      " \n",
      "Lower limit: 23.0 Upper limit: 39.0\n",
      "Minimum value: 25   MAximum Value: 35\n",
      "Lower limit passed - No outlier\n",
      "Upper limit passed - No outlier\n",
      " \n",
      "Lower limit: 9.5 Upper limit: 29.5\n",
      "Minimum value: 15   MAximum Value: 25\n",
      "Lower limit passed - No outlier\n",
      "Upper limit passed - No outlier\n",
      " \n",
      "Lower limit: 74.375 Upper limit: 299.375\n",
      "Minimum value: 128   MAximum Value: 250\n",
      "Lower limit passed - No outlier\n",
      "Upper limit passed - No outlier\n",
      " \n",
      "Lower limit: 15.5 Upper limit: 35.5\n",
      "Minimum value: 20   MAximum Value: 30\n",
      "Lower limit passed - No outlier\n",
      "Upper limit passed - No outlier\n",
      " \n"
     ]
    }
   ],
   "source": [
    "def detect_outlier(x):\n",
    "    q1 = x.quantile(0.25)\n",
    "    q3 = x.quantile(0.75)\n",
    "    IQR = q3-q1\n",
    "    lower_limit = q1 - (1.5*IQR)\n",
    "    upper_limit = q3 + (1.5*IQR)\n",
    "    print(f\"Lower limit: {lower_limit} Upper limit: {upper_limit}\")\n",
    "    print(f\"Minimum value: {x.min()}   MAximum Value: {x.max()}\")\n",
    "    for i in [x.min(),x.max()]:\n",
    "        if i == x.min():\n",
    "            if lower_limit > x.min():\n",
    "                print(\"Lower limit failed - outlier\")\n",
    "            elif lower_limit < x.min():\n",
    "                print(\"Lower limit passed - No outlier\")\n",
    "        elif i == x.max():\n",
    "            if upper_limit > x.max():\n",
    "                print(\"Upper limit passed - No outlier\")\n",
    "            elif upper_limit < x.max():\n",
    "                print(\"Upper limit failed - outlier\")\n",
    "for i in df['Label'].unique():\n",
    "    detect_outlier(df['K'][df['Label']==i])\n",
    "    print(' ')\n"
   ]
  },
  {
   "cell_type": "code",
   "execution_count": 16,
   "metadata": {
    "colab": {
     "base_uri": "https://localhost:8080/",
     "height": 300
    },
    "id": "8HVn3145oNgx",
    "outputId": "692577da-2703-4607-8116-8daef062b597"
   },
   "outputs": [
    {
     "data": {
      "text/html": [
       "<div>\n",
       "<style scoped>\n",
       "    .dataframe tbody tr th:only-of-type {\n",
       "        vertical-align: middle;\n",
       "    }\n",
       "\n",
       "    .dataframe tbody tr th {\n",
       "        vertical-align: top;\n",
       "    }\n",
       "\n",
       "    .dataframe thead th {\n",
       "        text-align: right;\n",
       "    }\n",
       "</style>\n",
       "<table border=\"1\" class=\"dataframe\">\n",
       "  <thead>\n",
       "    <tr style=\"text-align: right;\">\n",
       "      <th></th>\n",
       "      <th>N</th>\n",
       "      <th>P</th>\n",
       "      <th>K</th>\n",
       "      <th>Temperature</th>\n",
       "      <th>Humidity</th>\n",
       "      <th>pH</th>\n",
       "      <th>Rainfall</th>\n",
       "      <th>Water Availability</th>\n",
       "    </tr>\n",
       "  </thead>\n",
       "  <tbody>\n",
       "    <tr>\n",
       "      <th>N</th>\n",
       "      <td>1.000000</td>\n",
       "      <td>0.518281</td>\n",
       "      <td>0.420073</td>\n",
       "      <td>-0.040708</td>\n",
       "      <td>0.137837</td>\n",
       "      <td>0.245458</td>\n",
       "      <td>0.557683</td>\n",
       "      <td>0.169740</td>\n",
       "    </tr>\n",
       "    <tr>\n",
       "      <th>P</th>\n",
       "      <td>0.518281</td>\n",
       "      <td>1.000000</td>\n",
       "      <td>0.796330</td>\n",
       "      <td>-0.128518</td>\n",
       "      <td>-0.044529</td>\n",
       "      <td>0.091545</td>\n",
       "      <td>0.314149</td>\n",
       "      <td>-0.085884</td>\n",
       "    </tr>\n",
       "    <tr>\n",
       "      <th>K</th>\n",
       "      <td>0.420073</td>\n",
       "      <td>0.796330</td>\n",
       "      <td>1.000000</td>\n",
       "      <td>-0.162139</td>\n",
       "      <td>0.192895</td>\n",
       "      <td>0.013822</td>\n",
       "      <td>0.267683</td>\n",
       "      <td>-0.128014</td>\n",
       "    </tr>\n",
       "    <tr>\n",
       "      <th>Temperature</th>\n",
       "      <td>-0.040708</td>\n",
       "      <td>-0.128518</td>\n",
       "      <td>-0.162139</td>\n",
       "      <td>1.000000</td>\n",
       "      <td>0.183481</td>\n",
       "      <td>-0.009761</td>\n",
       "      <td>-0.008499</td>\n",
       "      <td>-0.056894</td>\n",
       "    </tr>\n",
       "    <tr>\n",
       "      <th>Humidity</th>\n",
       "      <td>0.137837</td>\n",
       "      <td>-0.044529</td>\n",
       "      <td>0.192895</td>\n",
       "      <td>0.183481</td>\n",
       "      <td>1.000000</td>\n",
       "      <td>0.010551</td>\n",
       "      <td>-0.057163</td>\n",
       "      <td>0.119791</td>\n",
       "    </tr>\n",
       "    <tr>\n",
       "      <th>pH</th>\n",
       "      <td>0.245458</td>\n",
       "      <td>0.091545</td>\n",
       "      <td>0.013822</td>\n",
       "      <td>-0.009761</td>\n",
       "      <td>0.010551</td>\n",
       "      <td>1.000000</td>\n",
       "      <td>0.108770</td>\n",
       "      <td>0.103731</td>\n",
       "    </tr>\n",
       "    <tr>\n",
       "      <th>Rainfall</th>\n",
       "      <td>0.557683</td>\n",
       "      <td>0.314149</td>\n",
       "      <td>0.267683</td>\n",
       "      <td>-0.008499</td>\n",
       "      <td>-0.057163</td>\n",
       "      <td>0.108770</td>\n",
       "      <td>1.000000</td>\n",
       "      <td>-0.084159</td>\n",
       "    </tr>\n",
       "    <tr>\n",
       "      <th>Water Availability</th>\n",
       "      <td>0.169740</td>\n",
       "      <td>-0.085884</td>\n",
       "      <td>-0.128014</td>\n",
       "      <td>-0.056894</td>\n",
       "      <td>0.119791</td>\n",
       "      <td>0.103731</td>\n",
       "      <td>-0.084159</td>\n",
       "      <td>1.000000</td>\n",
       "    </tr>\n",
       "  </tbody>\n",
       "</table>\n",
       "</div>"
      ],
      "text/plain": [
       "                           N         P         K  Temperature  Humidity  \\\n",
       "N                   1.000000  0.518281  0.420073    -0.040708  0.137837   \n",
       "P                   0.518281  1.000000  0.796330    -0.128518 -0.044529   \n",
       "K                   0.420073  0.796330  1.000000    -0.162139  0.192895   \n",
       "Temperature        -0.040708 -0.128518 -0.162139     1.000000  0.183481   \n",
       "Humidity            0.137837 -0.044529  0.192895     0.183481  1.000000   \n",
       "pH                  0.245458  0.091545  0.013822    -0.009761  0.010551   \n",
       "Rainfall            0.557683  0.314149  0.267683    -0.008499 -0.057163   \n",
       "Water Availability  0.169740 -0.085884 -0.128014    -0.056894  0.119791   \n",
       "\n",
       "                          pH  Rainfall  Water Availability  \n",
       "N                   0.245458  0.557683            0.169740  \n",
       "P                   0.091545  0.314149           -0.085884  \n",
       "K                   0.013822  0.267683           -0.128014  \n",
       "Temperature        -0.009761 -0.008499           -0.056894  \n",
       "Humidity            0.010551 -0.057163            0.119791  \n",
       "pH                  1.000000  0.108770            0.103731  \n",
       "Rainfall            0.108770  1.000000           -0.084159  \n",
       "Water Availability  0.103731 -0.084159            1.000000  "
      ]
     },
     "execution_count": 16,
     "metadata": {},
     "output_type": "execute_result"
    }
   ],
   "source": [
    "df[['N','P','K','Temperature','Humidity','pH','Rainfall', 'Water Availability']].corr()"
   ]
  },
  {
   "cell_type": "raw",
   "metadata": {
    "id": "1dc6naUPpBLB",
    "outputId": "23bba4dc-6d40-4c46-d44c-0187677932f5"
   },
   "source": [
    "plt.figure(figsize=(7,7))\n",
    "sns.heatmap(df.corr(),annot=True)"
   ]
  },
  {
   "cell_type": "code",
   "execution_count": 17,
   "metadata": {
    "id": "p2D6Cffax9q3"
   },
   "outputs": [],
   "source": [
    "from sklearn.preprocessing import LabelEncoder\n",
    "encoder=LabelEncoder()\n",
    "df['Label']=encoder.fit_transform(df['Label'])\n"
   ]
  },
  {
   "cell_type": "code",
   "execution_count": 18,
   "metadata": {
    "id": "QcT3oM6lpeQq"
   },
   "outputs": [],
   "source": [
    "X=df.drop(['Label'],axis=1)\n",
    "y=df['Label']"
   ]
  },
  {
   "cell_type": "code",
   "execution_count": 19,
   "metadata": {
    "id": "AMoWG76LsxcH"
   },
   "outputs": [],
   "source": [
    "from sklearn.model_selection import train_test_split\n",
    "X_train, X_test, y_train, y_test = train_test_split(X, y, test_size = 0.3,shuffle = True, random_state = 0,stratify=y)"
   ]
  },
  {
   "cell_type": "code",
   "execution_count": 20,
   "metadata": {
    "id": "EWVZlfuqup5B"
   },
   "outputs": [],
   "source": [
    "from sklearn.preprocessing import StandardScaler\n",
    "scaler=StandardScaler()\n",
    "X_train=scaler.fit_transform(X_train)\n",
    "X_train=pd.DataFrame(X_train,columns=X.columns)\n",
    "X_test=scaler.transform(X_test)\n",
    "X_test=pd.DataFrame(X_test,columns=X.columns)"
   ]
  },
  {
   "cell_type": "code",
   "execution_count": 21,
   "metadata": {
    "id": "ZyS6mARHthAw"
   },
   "outputs": [],
   "source": [
    "from sklearn.model_selection import RandomizedSearchCV\n",
    "from sklearn.ensemble import RandomForestClassifier"
   ]
  },
  {
   "cell_type": "code",
   "execution_count": 22,
   "metadata": {
    "colab": {
     "base_uri": "https://localhost:8080/"
    },
    "id": "DDH52YIGvuAr",
    "outputId": "aa391e39-a0a7-4349-d6f5-98c63840702a"
   },
   "outputs": [
    {
     "name": "stderr",
     "output_type": "stream",
     "text": [
      "C:\\Users\\sunny\\AppData\\Local\\Programs\\Python\\Python312\\Lib\\site-packages\\sklearn\\model_selection\\_search.py:318: UserWarning: The total space of parameters 6 is smaller than n_iter=10. Running 6 iterations. For exhaustive searches, use GridSearchCV.\n",
      "  warnings.warn(\n"
     ]
    }
   ],
   "source": [
    "param_grid = {'n_estimators': [50, 75,100, 150, 200, 300],}\n",
    "classifier=RandomizedSearchCV(RandomForestClassifier(random_state=42),param_grid,cv=5)\n",
    "classifier.fit(X_train,y_train)\n",
    "y_pred=classifier.predict(X_test)"
   ]
  },
  {
   "cell_type": "code",
   "execution_count": 23,
   "metadata": {
    "id": "5hast8ngx14C"
   },
   "outputs": [],
   "source": [
    "from sklearn.metrics import accuracy_score\n",
    "from sklearn.metrics import confusion_matrix\n",
    "from sklearn import metrics"
   ]
  },
  {
   "cell_type": "code",
   "execution_count": 24,
   "metadata": {
    "colab": {
     "base_uri": "https://localhost:8080/"
    },
    "id": "gJjFJDYjyliO",
    "outputId": "c1f85be6-977d-4e00-e569-32d61331652a"
   },
   "outputs": [
    {
     "data": {
      "text/plain": [
       "1.0"
      ]
     },
     "execution_count": 24,
     "metadata": {},
     "output_type": "execute_result"
    }
   ],
   "source": [
    "accuracy_score(y_pred, y_test)"
   ]
  },
  {
   "cell_type": "code",
   "execution_count": 25,
   "metadata": {
    "colab": {
     "base_uri": "https://localhost:8080/"
    },
    "id": "saM7uuU4HhkN",
    "outputId": "7a62382c-5473-4518-bdae-605e3a8ab0b5"
   },
   "outputs": [
    {
     "name": "stdout",
     "output_type": "stream",
     "text": [
      "Accuracy: 1.0\n",
      "Precision: 1.0\n",
      "Recall: 1.0\n",
      "F1-score: 1.0\n",
      "Classification Report:\n",
      "              precision    recall  f1-score   support\n",
      "\n",
      "           0       1.00      1.00      1.00        36\n",
      "           1       1.00      1.00      1.00        30\n",
      "           2       1.00      1.00      1.00        30\n",
      "           3       1.00      1.00      1.00        30\n",
      "           4       1.00      1.00      1.00        30\n",
      "           5       1.00      1.00      1.00        30\n",
      "           6       1.00      1.00      1.00        30\n",
      "           7       1.00      1.00      1.00        31\n",
      "           8       1.00      1.00      1.00        30\n",
      "           9       1.00      1.00      1.00        30\n",
      "          10       1.00      1.00      1.00        30\n",
      "          11       1.00      1.00      1.00        30\n",
      "          12       1.00      1.00      1.00        30\n",
      "          13       1.00      1.00      1.00        30\n",
      "          14       1.00      1.00      1.00        30\n",
      "          15       1.00      1.00      1.00        30\n",
      "          16       1.00      1.00      1.00        30\n",
      "          17       1.00      1.00      1.00        30\n",
      "          18       1.00      1.00      1.00        30\n",
      "          19       1.00      1.00      1.00        30\n",
      "          20       1.00      1.00      1.00        30\n",
      "          21       1.00      1.00      1.00        30\n",
      "\n",
      "    accuracy                           1.00       667\n",
      "   macro avg       1.00      1.00      1.00       667\n",
      "weighted avg       1.00      1.00      1.00       667\n",
      "\n"
     ]
    }
   ],
   "source": [
    "from sklearn.metrics import accuracy_score, precision_score, recall_score, f1_score, classification_report\n",
    "\n",
    "# Make predictions on test data\n",
    "y_pred = classifier.predict(X_test)\n",
    "\n",
    "# Compute accuracy\n",
    "accuracy = accuracy_score(y_test, y_pred)\n",
    "print(\"Accuracy:\", accuracy)\n",
    "\n",
    "# Compute precision, recall, and F1-score\n",
    "precision = precision_score(y_test, y_pred, average='weighted')\n",
    "recall = recall_score(y_test, y_pred, average='weighted')\n",
    "f1 = f1_score(y_test, y_pred, average='weighted')\n",
    "\n",
    "print(\"Precision:\", precision)\n",
    "print(\"Recall:\", recall)\n",
    "print(\"F1-score:\", f1)\n",
    "\n",
    "# Display classification report\n",
    "print(\"Classification Report:\")\n",
    "print(classification_report(y_test, y_pred))"
   ]
  },
  {
   "cell_type": "code",
   "execution_count": 26,
   "metadata": {
    "colab": {
     "base_uri": "https://localhost:8080/",
     "height": 872
    },
    "id": "nwKr5kNY0jdH",
    "outputId": "bbc9b485-6381-4547-b23c-7816d706d746"
   },
   "outputs": [
    {
     "data": {
      "image/png": "[encoded data removed]",
      "text/plain": [
       "<Figure size 1500x1000 with 2 Axes>"
      ]
     },
     "metadata": {},
     "output_type": "display_data"
    }
   ],
   "source": [
    "y_pred = classifier.predict(X_test)\n",
    "y_true = y_test\n",
    "\n",
    "cm_rf = confusion_matrix(y_true,y_pred)\n",
    "\n",
    "f, ax = plt.subplots(figsize=(15,10))\n",
    "sns.heatmap(cm_rf, annot=True, linewidth=0.5, fmt=\".0f\",  cmap='viridis', ax = ax)\n",
    "plt.xlabel(\"Predicted\")\n",
    "plt.ylabel(\"Actual\")\n",
    "plt.title('Predicted vs actual')\n",
    "plt.show()"
   ]
  },
  {
   "cell_type": "code",
   "execution_count": 1,
   "metadata": {},
   "outputs": [
    {
     "name": "stdout",
     "output_type": "stream",
     "text": [
      "Collecting lightgbm\n",
      "  Downloading lightgbm-4.3.0-py3-none-win_amd64.whl.metadata (19 kB)\n",
      "Requirement already satisfied: numpy in c:\\users\\sunny\\appdata\\roaming\\python\\python312\\site-packages (from lightgbm) (1.26.1)\n",
      "Requirement already satisfied: scipy in c:\\users\\sunny\\appdata\\local\\programs\\python\\python312\\lib\\site-packages (from lightgbm) (1.13.0)\n",
      "Downloading lightgbm-4.3.0-py3-none-win_amd64.whl (1.3 MB)\n",
      "   ---------------------------------------- 0.0/1.3 MB ? eta -:--:--\n",
      "   ---------------------------------------- 0.0/1.3 MB ? eta -:--:--\n",
      "    --------------------------------------- 0.0/1.3 MB 435.7 kB/s eta 0:00:03\n",
      "   --- ------------------------------------ 0.1/1.3 MB 980.4 kB/s eta 0:00:02\n",
      "   ------ --------------------------------- 0.2/1.3 MB 1.5 MB/s eta 0:00:01\n",
      "   -------- ------------------------------- 0.3/1.3 MB 1.7 MB/s eta 0:00:01\n",
      "   ------------ --------------------------- 0.4/1.3 MB 1.8 MB/s eta 0:00:01\n",
      "   --------------- ------------------------ 0.5/1.3 MB 1.8 MB/s eta 0:00:01\n",
      "   ------------------ --------------------- 0.6/1.3 MB 1.9 MB/s eta 0:00:01\n",
      "   ----------------------- ---------------- 0.8/1.3 MB 2.0 MB/s eta 0:00:01\n",
      "   --------------------------- ------------ 0.9/1.3 MB 2.1 MB/s eta 0:00:01\n",
      "   -------------------------------- ------- 1.1/1.3 MB 2.3 MB/s eta 0:00:01\n",
      "   ----------------------------------- ---- 1.2/1.3 MB 2.2 MB/s eta 0:00:01\n",
      "   ---------------------------------------  1.3/1.3 MB 2.3 MB/s eta 0:00:01\n",
      "   ---------------------------------------- 1.3/1.3 MB 2.2 MB/s eta 0:00:00\n",
      "Installing collected packages: lightgbm\n",
      "Successfully installed lightgbm-4.3.0\n"
     ]
    }
   ],
   "source": [
    "!pip install lightgbm"
   ]
  },
  {
   "cell_type": "code",
   "execution_count": 14,
   "metadata": {
    "colab": {
     "base_uri": "https://localhost:8080/",
     "height": 1000
    },
    "id": "7NG1wd4p8LRl",
    "outputId": "044ebea9-04ef-45c4-e0b1-d0328c2a752a"
   },
   "outputs": [
    {
     "ename": "NameError",
     "evalue": "name 'X_train' is not defined",
     "output_type": "error",
     "traceback": [
      "\u001b[1;31m---------------------------------------------------------------------------\u001b[0m",
      "\u001b[1;31mNameError\u001b[0m                                 Traceback (most recent call last)",
      "Cell \u001b[1;32mIn[14], line 3\u001b[0m\n\u001b[0;32m      1\u001b[0m \u001b[38;5;28;01mimport\u001b[39;00m \u001b[38;5;21;01mlightgbm\u001b[39;00m \u001b[38;5;28;01mas\u001b[39;00m \u001b[38;5;21;01mlgb\u001b[39;00m\n\u001b[0;32m      2\u001b[0m lgbm \u001b[38;5;241m=\u001b[39m lgb\u001b[38;5;241m.\u001b[39mLGBMClassifier(learning_rate\u001b[38;5;241m=\u001b[39m\u001b[38;5;241m0.09\u001b[39m,max_depth\u001b[38;5;241m=\u001b[39m\u001b[38;5;241m-\u001b[39m\u001b[38;5;241m5\u001b[39m,random_state\u001b[38;5;241m=\u001b[39m\u001b[38;5;241m42\u001b[39m)\n\u001b[1;32m----> 3\u001b[0m lgbm\u001b[38;5;241m.\u001b[39mfit(\u001b[43mX_train\u001b[49m, y_train)\n",
      "\u001b[1;31mNameError\u001b[0m: name 'X_train' is not defined"
     ]
    }
   ],
   "source": [
    "import lightgbm as lgb\n",
    "lgbm = lgb.LGBMClassifier(learning_rate=0.09,max_depth=-5,random_state=42)\n",
    "lgbm.fit(X_train, y_train)"
   ]
  },
  {
   "cell_type": "code",
   "execution_count": null,
   "metadata": {
    "id": "6cxuRLJI1xwz"
   },
   "outputs": [],
   "source": [
    "y_pred1=lgbm.predict(X_test)"
   ]
  },
  {
   "cell_type": "code",
   "execution_count": null,
   "metadata": {
    "colab": {
     "base_uri": "https://localhost:8080/"
    },
    "id": "JKjCmx6i2KlU",
    "outputId": "995a030a-e718-4ef4-e911-200fc90c3c04"
   },
   "outputs": [],
   "source": [
    "from sklearn.metrics import accuracy_score, precision_score, recall_score, f1_score, classification_report\n",
    "\n",
    "\n",
    "# Compute accuracy\n",
    "accuracy = accuracy_score(y_test, y_pred1)\n",
    "print(\"Accuracy:\", accuracy)\n",
    "\n",
    "# Compute precision, recall, and F1-score\n",
    "precision = precision_score(y_test, y_pred1, average='weighted')\n",
    "recall = recall_score(y_test, y_pred1, average='weighted')\n",
    "f1 = f1_score(y_test, y_pred1, average='weighted')\n",
    "\n",
    "print(\"Precision:\", precision)\n",
    "print(\"Recall:\", recall)\n",
    "print(\"F1-score:\", f1)\n",
    "\n",
    "# Display classification report\n",
    "print(\"Classification Report:\")\n",
    "print(classification_report(y_test, y_pred1))"
   ]
  },
  {
   "cell_type": "code",
   "execution_count": null,
   "metadata": {
    "id": "rF3EoyM5wE6C"
   },
   "outputs": [],
   "source": [
    "import xgboost as xgb\n",
    "from hyperopt import STATUS_OK, Trials, fmin, hp, tpe"
   ]
  },
  {
   "cell_type": "code",
   "execution_count": null,
   "metadata": {
    "id": "O1_mDek9w0ZA"
   },
   "outputs": [],
   "source": [
    "space={'max_depth': hp.quniform(\"max_depth\", 3, 18, 1),\n",
    "        'gamma': hp.uniform ('gamma', 1,9),\n",
    "        'reg_alpha' : hp.quniform('reg_alpha', 40,180,1),\n",
    "        'reg_lambda' : hp.uniform('reg_lambda', 0,1),\n",
    "        'colsample_bytree' : hp.uniform('colsample_bytree', 0.5,1),\n",
    "        'min_child_weight' : hp.quniform('min_child_weight', 0, 10, 1),\n",
    "        'n_estimators': 180,\n",
    "        'seed': 0\n",
    "    }"
   ]
  },
  {
   "cell_type": "code",
   "execution_count": null,
   "metadata": {
    "id": "QC1-rWdow9-U"
   },
   "outputs": [],
   "source": [
    "def objective(space):\n",
    "    clf=xgb.XGBClassifier(\n",
    "                    n_estimators =space['n_estimators'], max_depth = int(space['max_depth']), gamma = space['gamma'],\n",
    "                    reg_alpha = int(space['reg_alpha']),min_child_weight=int(space['min_child_weight']),\n",
    "                    colsample_bytree=int(space['colsample_bytree']))\n",
    "\n",
    "    evaluation = [( X_train, y_train), ( X_test, y_test)]\n",
    "\n",
    "    clf.fit(X_train, y_train,\n",
    "            eval_set=evaluation, eval_metric=\"auc\",\n",
    "            early_stopping_rounds=10,verbose=False)\n",
    "\n",
    "\n",
    "    pred = clf.predict(X_test)\n",
    "    accuracy = accuracy_score(y_test, pred>0.5)\n",
    "    print (\"SCORE:\", accuracy)\n",
    "    return {'loss': -accuracy, 'status': STATUS_OK }"
   ]
  },
  {
   "cell_type": "code",
   "execution_count": null,
   "metadata": {
    "colab": {
     "base_uri": "https://localhost:8080/"
    },
    "id": "s3wfdAshxYBn",
    "outputId": "34dbd8d8-e982-45d0-f49f-4e87167c9fe5"
   },
   "outputs": [],
   "source": [
    "trials = Trials()\n",
    "\n",
    "best_hyperparams = fmin(fn = objective,\n",
    "                        space = space,\n",
    "                        algo = tpe.suggest,\n",
    "                        max_evals = 100,\n",
    "                        trials = trials)\n",
    "print(best_hyperparams)"
   ]
  },
  {
   "cell_type": "code",
   "execution_count": null,
   "metadata": {
    "colab": {
     "base_uri": "https://localhost:8080/",
     "height": 282
    },
    "id": "Z0icja5w2jMT",
    "outputId": "6b716bb4-404c-4c80-fa9d-dd0972a9f20c"
   },
   "outputs": [],
   "source": [
    "xg= xgb.XGBClassifier({'colsample_bytree': 0.7915505572786226, 'gamma': 2.6825905813531428, 'max_depth': 10.0, 'min_child_weight': 10.0, 'reg_alpha': 41.0, 'reg_lambda': 0.9089014862831776})\n",
    "xg.fit(X_train, y_train)"
   ]
  },
  {
   "cell_type": "code",
   "execution_count": null,
   "metadata": {
    "id": "oubeTP_r25PC"
   },
   "outputs": [],
   "source": [
    "y_pred2=xg.predict(X_test)\n"
   ]
  },
  {
   "cell_type": "code",
   "execution_count": null,
   "metadata": {
    "colab": {
     "base_uri": "https://localhost:8080/"
    },
    "id": "UrjFUNjR3H-Z",
    "outputId": "86d1dd73-b3d7-4704-e7a8-e186c7cb0d77"
   },
   "outputs": [],
   "source": [
    "from sklearn.metrics import accuracy_score, precision_score, recall_score, f1_score, classification_report\n",
    "\n",
    "# Compute accuracy\n",
    "accuracy = accuracy_score(y_test, y_pred2)\n",
    "print(\"Accuracy:\", accuracy)\n",
    "\n",
    "# Compute precision, recall, and F1-score\n",
    "precision = precision_score(y_test, y_pred2, average='weighted')\n",
    "recall = recall_score(y_test, y_pred2, average='weighted')\n",
    "f1 = f1_score(y_test, y_pred2, average='weighted')\n",
    "\n",
    "print(\"Precision:\", precision)\n",
    "print(\"Recall:\", recall)\n",
    "print(\"F1-score:\", f1)\n",
    "\n",
    "# Display classification report\n",
    "print(\"Classification Report:\")\n",
    "print(classification_report(y_test, y_pred2))"
   ]
  },
  {
   "cell_type": "code",
   "execution_count": null,
   "metadata": {
    "id": "PaXvpg-N3r1f"
   },
   "outputs": [],
   "source": [
    "from sklearn.svm import SVC"
   ]
  },
  {
   "cell_type": "code",
   "execution_count": null,
   "metadata": {
    "id": "jRvoIO5a4vZD"
   },
   "outputs": [],
   "source": [
    "param_grid={'C':[0.001,0.01,0.1,1,10,100], 'gamma':[0.001,0.01,0.1,1,10,100]}\n",
    "sv=RandomizedSearchCV(SVC(),param_grid,cv=5)\n",
    "sv.fit(X_train,y_train)\n",
    "y_pred3=sv.predict(X_test)"
   ]
  },
  {
   "cell_type": "code",
   "execution_count": null,
   "metadata": {
    "colab": {
     "base_uri": "https://localhost:8080/"
    },
    "id": "Kkuh3jh35Gzh",
    "outputId": "42b2a8dc-37db-4040-9a1c-d9785e684f82"
   },
   "outputs": [],
   "source": [
    "from sklearn.metrics import accuracy_score, precision_score, recall_score, f1_score, classification_report\n",
    "# Compute accuracy\n",
    "accuracy = accuracy_score(y_test, y_pred3)\n",
    "print(\"Accuracy:\", accuracy)\n",
    "\n",
    "# Compute precision, recall, and F1-score\n",
    "precision = precision_score(y_test, y_pred3, average='weighted')\n",
    "recall = recall_score(y_test, y_pred3, average='weighted')\n",
    "f1 = f1_score(y_test, y_pred3, average='weighted')\n",
    "\n",
    "print(\"Precision:\", precision)\n",
    "print(\"Recall:\", recall)\n",
    "print(\"F1-score:\", f1)\n",
    "\n",
    "# Display classification report\n",
    "print(\"Classification Report:\")\n",
    "print(classification_report(y_test, y_pred3))"
   ]
  },
  {
   "cell_type": "code",
   "execution_count": null,
   "metadata": {
    "colab": {
     "base_uri": "https://localhost:8080/",
     "height": 487
    },
    "id": "1gGloEjNGKOK",
    "outputId": "fcb66fe8-e87e-4cbc-cf57-eca8a9d8fc83"
   },
   "outputs": [],
   "source": [
    "y_pred3 = sv.predict(X_test)\n",
    "y_true = y_test\n",
    "\n",
    "cm_rf = confusion_matrix(y_true,y_pred3)\n",
    "\n",
    "f, ax = plt.subplots(figsize=(10,5))\n",
    "sns.heatmap(cm_rf, annot=True, linewidth=0.5, fmt=\".0f\",  cmap='viridis', ax = ax)\n",
    "plt.xlabel(\"Predicted\")\n",
    "plt.ylabel(\"Actual\")\n",
    "plt.title('Predicted vs actual')\n",
    "plt.show()"
   ]
  },
  {
   "cell_type": "code",
   "execution_count": null,
   "metadata": {
    "id": "VCMiaeoO5oNI"
   },
   "outputs": [],
   "source": [
    "from sklearn.naive_bayes import GaussianNB"
   ]
  },
  {
   "cell_type": "code",
   "execution_count": null,
   "metadata": {
    "id": "6bFEI-p552XG"
   },
   "outputs": [],
   "source": [
    "nb = GaussianNB()\n",
    "nb.fit(X_train,y_train)\n",
    "y_pred4=nb.predict(X_test)"
   ]
  },
  {
   "cell_type": "code",
   "execution_count": null,
   "metadata": {
    "colab": {
     "base_uri": "https://localhost:8080/"
    },
    "id": "F7vxXF9I6cr8",
    "outputId": "f33e7d2c-49c4-4891-b778-9eab16d5beca"
   },
   "outputs": [],
   "source": [
    "from sklearn.metrics import accuracy_score, precision_score, recall_score, f1_score, classification_report\n",
    "\n",
    "# Compute accuracy\n",
    "accuracy = accuracy_score(y_test, y_pred4)\n",
    "print(\"Accuracy:\", accuracy)\n",
    "\n",
    "# Compute precision, recall, and F1-score\n",
    "precision = precision_score(y_test, y_pred4, average='weighted')\n",
    "recall = recall_score(y_test, y_pred4, average='weighted')\n",
    "f1 = f1_score(y_test, y_pred4, average='weighted')\n",
    "\n",
    "print(\"Precision:\", precision)\n",
    "print(\"Recall:\", recall)\n",
    "print(\"F1-score:\", f1)\n",
    "\n",
    "# Display classification report\n",
    "print(\"Classification Report:\")\n",
    "print(classification_report(y_test, y_pred4))"
   ]
  }
 ],
 "metadata": {
  "colab": {
   "provenance": []
  },
  "kernelspec": {
   "display_name": "Python 3 (ipykernel)",
   "language": "python",
   "name": "python3"
  },
  "language_info": {
   "codemirror_mode": {
    "name": "ipython",
    "version": 3
   },
   "file_extension": ".py",
   "mimetype": "text/x-python",
   "name": "python",
   "nbconvert_exporter": "python",
   "pygments_lexer": "ipython3",
   "version": "3.12.3"
  }
 },
 "nbformat": 4,
 "nbformat_minor": 4
}
